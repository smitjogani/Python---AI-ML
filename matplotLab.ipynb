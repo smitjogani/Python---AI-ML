{
 "cells": [
  {
   "cell_type": "code",
   "execution_count": null,
   "metadata": {},
   "outputs": [],
   "source": [
    "import matplotlib.pyplot as plt\n",
    "sub = ['Math', 'English', 'Hindi', 'Science', 'Sanskrit']\n",
    "\n",
    "smit = [45,23,59, 50, 34]\n",
    "jay=[34,50, 43, 50, 32]\n",
    "ravi=[44,45,23,33,43]\n",
    "\n",
    "plt.plot(sub, smit, 'y')\n",
    "plt.plot(sub, jay, 'g')\n",
    "plt.plot(sub, ravi, 'r')\n",
    "\n",
    "plt.xlabel('Subjects')\n",
    "plt.ylabel('Marks')"
   ]
  },
  {
   "cell_type": "code",
   "execution_count": null,
   "metadata": {},
   "outputs": [],
   "source": [
    "subject = ['Maths', 'Hindi', 'Science']\n",
    "\n",
    "s1 = [30,40,21]\n",
    "s2 = [23,48,32]\n",
    "\n",
    "plt.plot(subject, s1, 'g', linewidth=\"4\")\n",
    "plt.plot(subject, s2, 'r', linewidth=\"3\")\n",
    "\n",
    "plt.title(\"Marks Of Students\")\n",
    "\n",
    "plt.xlabel(\"Subject\")\n",
    "plt.ylabel(\"Marks\")\n",
    "\n",
    "plt.show()\n"
   ]
  },
  {
   "cell_type": "code",
   "execution_count": null,
   "metadata": {},
   "outputs": [],
   "source": [
    "import numpy as np\n",
    "\n",
    "x = np.array([80,85, 90, 95, 100, 105, 110, 115, 120, 125])\n",
    "y = np.array([240, 250, 260, 270, 245, 280, 159, 230, 250, 120])\n",
    "\n",
    "plt.title(\"Sport's Watch Data\")\n",
    "plt.xlabel(\"Average Pulse\")\n",
    "plt.ylabel(\"Calories Burn\")\n",
    "\n",
    "plt.plot(x, y, 'red')\n",
    "plt.grid()\n",
    "\n",
    "plt.show()"
   ]
  },
  {
   "cell_type": "code",
   "execution_count": null,
   "metadata": {},
   "outputs": [],
   "source": [
    "plt.bar(x,y)\n",
    "plt.show()"
   ]
  },
  {
   "cell_type": "code",
   "execution_count": null,
   "metadata": {},
   "outputs": [],
   "source": [
    "plt.scatter(x,y)"
   ]
  },
  {
   "cell_type": "code",
   "execution_count": null,
   "metadata": {},
   "outputs": [],
   "source": [
    "plt.stackplot(x,y, colors=[\"orange\"])"
   ]
  },
  {
   "cell_type": "code",
   "execution_count": null,
   "metadata": {},
   "outputs": [],
   "source": [
    "names = [\"arun\", \"james\", \"ricjy\", \"pratik\"]\n",
    "marks = [25, 34, 84, 56]\n",
    "\n",
    "plt.bar(names, marks, color=\"c\")\n",
    "\n",
    "plt.title(\"Result\")\n",
    "plt.xlabel(\"Names\")\n",
    "plt.ylabel(\"Marks\")\n",
    "\n",
    "plt.show()"
   ]
  },
  {
   "cell_type": "code",
   "execution_count": null,
   "metadata": {},
   "outputs": [],
   "source": [
    "y = np.array([20, 25, 30 , 25])\n",
    "name2 = [\"arun\", \"james\", \"ricjy\", \"pratik\"]\n",
    "\n",
    "plt.pie(y, labels=name2)\n",
    "\n",
    "\n",
    "plt.show()"
   ]
  },
  {
   "cell_type": "code",
   "execution_count": null,
   "metadata": {},
   "outputs": [],
   "source": [
    "db3 = np.array([35, 25, 25, 15])\n",
    "myLables = [\"Apples\", \"Banana\", \"Mango\", \"Kiwi\"]\n",
    "\n",
    "myExploid = [0,0,0,0.5]\n",
    "\n",
    "plt.pie(db3, labels=myLables, explode=myExploid)\n",
    "plt.show()"
   ]
  },
  {
   "cell_type": "code",
   "execution_count": null,
   "metadata": {},
   "outputs": [],
   "source": [
    "db4 = np.array([35, 25, 25, 15])\n",
    "lb = [\"Apple\", \"Banana\", \"Mango\", \"Kiwi\"]\n",
    "\n",
    "plt.pie(db4, labels=lb)\n",
    "plt.legend()\n",
    "\n",
    "plt.show()"
   ]
  },
  {
   "cell_type": "code",
   "execution_count": null,
   "metadata": {},
   "outputs": [],
   "source": [
    "percentages = [76,87,89,34,67,90,12,39,87,67, 79, 43,56,66,54,65,65,66,54,98,76,88,86,52]\n",
    "no_of_student = [0,10,20,30,40,50,60,70,80,90]\n",
    "\n",
    "plt.hist(percentages,no_of_student, histtype='bar', rwidth=0.8, color=[\"magenta\"])\n",
    "\n",
    "plt.xlabel(\"Percentage\")\n",
    "plt.ylabel(\"Number of people\")\n",
    "plt.title('Histogram')\n",
    "\n",
    "plt.show()"
   ]
  },
  {
   "cell_type": "code",
   "execution_count": null,
   "metadata": {},
   "outputs": [],
   "source": [
    "x1 = [4, 8, 12]\n",
    "y1 = [19, 11, 7]\n",
    "\n",
    "x2 = [7, 10, 12]\n",
    "y2= [8, 18, 24]\n",
    "\n",
    "x3 = [6, 11 , 13]\n",
    "y3 = [14, 12, 8]\n",
    "\n",
    "plt.scatter(x1, y1, color=\"c\", marker=\"s\")\n",
    "plt.scatter(x2, y2, color=\"orange\", marker=\"^\")\n",
    "plt.scatter(x3, y3, color=\"g\")\n",
    "\n",
    "plt.title(\"Scatter Title\")\n",
    "\n",
    "plt.show()"
   ]
  },
  {
   "cell_type": "code",
   "execution_count": null,
   "metadata": {},
   "outputs": [],
   "source": [
    "fig, ax = plt.subplots(2, 2)\n",
    "\n",
    "# 2X2 figure\n",
    "lineSpace = np.linspace(0, 5, 100)\n",
    "\n",
    "ax[0,0].plot(lineSpace, np.sin(lineSpace), 'g')\n",
    "ax[1,0].plot(range(100), 'orange')\n",
    "ax[0,1].plot(lineSpace, np.cos(lineSpace), 'c')\n",
    "ax[1,1].plot(lineSpace, np.tan(lineSpace), 'r')\n",
    "\n",
    "plt.show()"
   ]
  },
  {
   "cell_type": "code",
   "execution_count": null,
   "metadata": {},
   "outputs": [],
   "source": [
    "import seaborn\n",
    "df = seaborn.load_dataset('tips')\n",
    "\n",
    "seaborn.pairplot(df, hue='total_bill')\n",
    "seaborn.pairplot(df, hue='tip')\n",
    "seaborn.pairplot(df, hue='sex')\n",
    "seaborn.pairplot(df, hue='smoker')\n",
    "seaborn.pairplot(df, hue='day')\n",
    "seaborn.pairplot(df, hue='time')\n",
    "seaborn.pairplot(df, hue='size')\n",
    "\n",
    "print(df)\n",
    "\n",
    "plt.show()"
   ]
  }
 ],
 "metadata": {
  "language_info": {
   "name": "python"
  }
 },
 "nbformat": 4,
 "nbformat_minor": 2
}
